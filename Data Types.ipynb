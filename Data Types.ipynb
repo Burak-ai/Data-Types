{
 "cells": [
  {
   "cell_type": "markdown",
   "id": "46b33968-14f1-4287-8d87-0735e04851fe",
   "metadata": {},
   "source": [
    "# Data Types"
   ]
  },
  {
   "cell_type": "code",
   "execution_count": 2,
   "id": "4bdb59d8-428a-49d1-9433-ed2583454f84",
   "metadata": {},
   "outputs": [
    {
     "data": {
      "text/plain": [
       "int"
      ]
     },
     "execution_count": 2,
     "metadata": {},
     "output_type": "execute_result"
    }
   ],
   "source": [
    "type(12)"
   ]
  },
  {
   "cell_type": "code",
   "execution_count": 8,
   "id": "e4f97c1e-c21d-48a5-9e85-bac259a1073a",
   "metadata": {},
   "outputs": [
    {
     "data": {
      "text/plain": [
       "float"
      ]
     },
     "execution_count": 8,
     "metadata": {},
     "output_type": "execute_result"
    }
   ],
   "source": [
    "type(12 + 10.25) "
   ]
  },
  {
   "cell_type": "code",
   "execution_count": 20,
   "id": "c895e18b-b4b6-4e03-a3f4-0c1aeced194c",
   "metadata": {},
   "outputs": [
    {
     "data": {
      "text/plain": [
       "bool"
      ]
     },
     "execution_count": 20,
     "metadata": {},
     "output_type": "execute_result"
    }
   ],
   "source": [
    "#Boolean\n",
    "type(1 > 5)"
   ]
  },
  {
   "cell_type": "code",
   "execution_count": 24,
   "id": "2373144e-bebb-45fa-9000-797d0d2925ea",
   "metadata": {},
   "outputs": [
    {
     "data": {
      "text/plain": [
       "False"
      ]
     },
     "execution_count": 24,
     "metadata": {},
     "output_type": "execute_result"
    }
   ],
   "source": [
    "1 == 2"
   ]
  },
  {
   "cell_type": "code",
   "execution_count": 26,
   "id": "1c30e1f5-cbee-417c-be49-9f112eeaa8c6",
   "metadata": {},
   "outputs": [
    {
     "data": {
      "text/plain": [
       "'Single Quote'"
      ]
     },
     "execution_count": 26,
     "metadata": {},
     "output_type": "execute_result"
    }
   ],
   "source": [
    "#Strings \n",
    "\n",
    "\"Single Quote\""
   ]
  },
  {
   "cell_type": "code",
   "execution_count": 34,
   "id": "12b52bb0-b815-4782-bccf-416cabc4b5bd",
   "metadata": {},
   "outputs": [
    {
     "name": "stdout",
     "output_type": "stream",
     "text": [
      "\n",
      "the ice cream vanquished\n",
      "my longing for sweets,\n",
      "upon this diet I look away,\n",
      "it no longer exists on this day.\n",
      "\n",
      "\n"
     ]
    }
   ],
   "source": [
    "multiline = \"\"\"\n",
    "the ice cream vanquished\n",
    "my longing for sweets,\n",
    "upon this diet I look away,\n",
    "it no longer exists on this day.\n",
    "\n",
    "\"\"\"\n",
    "print(multiline)"
   ]
  },
  {
   "cell_type": "code",
   "execution_count": 49,
   "id": "6a1b7eef-0ee6-4a29-9682-fc09eacf046f",
   "metadata": {},
   "outputs": [
    {
     "data": {
      "text/plain": [
       "\" I've always wanted to eat a gallon of ice cream. \""
      ]
     },
     "execution_count": 49,
     "metadata": {},
     "output_type": "execute_result"
    }
   ],
   "source": [
    "\"\"\" I've always wanted to eat a gallon of ice cream. \"\"\"\n"
   ]
  },
  {
   "cell_type": "code",
   "execution_count": 70,
   "id": "29471cd5-caa2-465d-beea-6cbf4676e92b",
   "metadata": {},
   "outputs": [],
   "source": [
    "a = 'Hello World! '"
   ]
  },
  {
   "cell_type": "code",
   "execution_count": 60,
   "id": "5a6a5913-92ec-4d54-8fc8-4c37815c922b",
   "metadata": {},
   "outputs": [
    {
     "name": "stdout",
     "output_type": "stream",
     "text": [
      "Hello\n"
     ]
    }
   ],
   "source": [
    "print(a[:5])"
   ]
  },
  {
   "cell_type": "code",
   "execution_count": 72,
   "id": "2a720e80-00b3-4e93-a435-efdc551af221",
   "metadata": {},
   "outputs": [
    {
     "name": "stdout",
     "output_type": "stream",
     "text": [
      "W\n"
     ]
    }
   ],
   "source": [
    "print(a[6])"
   ]
  },
  {
   "cell_type": "code",
   "execution_count": 74,
   "id": "b487196f-05f4-4811-842e-e5e756617b46",
   "metadata": {},
   "outputs": [
    {
     "data": {
      "text/plain": [
       "'Hello World! Hello World! Hello World! '"
      ]
     },
     "execution_count": 74,
     "metadata": {},
     "output_type": "execute_result"
    }
   ],
   "source": [
    "a*3"
   ]
  },
  {
   "cell_type": "code",
   "execution_count": 80,
   "id": "83c0108b-f32e-4650-826b-6695f97c546b",
   "metadata": {},
   "outputs": [],
   "source": [
    "#Sets\n",
    "daily_pints = {1,2,3}"
   ]
  },
  {
   "cell_type": "code",
   "execution_count": 82,
   "id": "e6145e74-451d-4ab3-b5de-fe7931e56d1e",
   "metadata": {},
   "outputs": [
    {
     "data": {
      "text/plain": [
       "set"
      ]
     },
     "execution_count": 82,
     "metadata": {},
     "output_type": "execute_result"
    }
   ],
   "source": [
    "type(daily_pints)"
   ]
  },
  {
   "cell_type": "code",
   "execution_count": 84,
   "id": "caa688dd-02cd-4618-99d5-90cfb3787cc0",
   "metadata": {},
   "outputs": [
    {
     "name": "stdout",
     "output_type": "stream",
     "text": [
      "{1, 2, 3}\n"
     ]
    }
   ],
   "source": [
    "print(daily_pints)"
   ]
  },
  {
   "cell_type": "code",
   "execution_count": 100,
   "id": "067987f1-cf5c-498a-a3e4-6e1f54e4b67c",
   "metadata": {},
   "outputs": [
    {
     "name": "stdout",
     "output_type": "stream",
     "text": [
      "{1, 2, 3, 4, 5, 6, 31}\n"
     ]
    }
   ],
   "source": [
    "daily_pints_log =  {1,2,31,2,3,4,1,2,5,6,3,2}\n",
    "print(daily_pints_log)"
   ]
  },
  {
   "cell_type": "code",
   "execution_count": 114,
   "id": "3216cc09-ef7e-4b07-928d-91ec863c963c",
   "metadata": {},
   "outputs": [
    {
     "name": "stdout",
     "output_type": "stream",
     "text": [
      "{0, 1, 2, 3, 5, 7, 24}\n"
     ]
    }
   ],
   "source": [
    "wifes_daily_log = {1,3,5,7,3,24,5,7,3,2,0}\n",
    "print(wifes_daily_log)"
   ]
  },
  {
   "cell_type": "code",
   "execution_count": 112,
   "id": "18b7e9d5-4033-4cbd-af41-003f12f1ccd8",
   "metadata": {},
   "outputs": [
    {
     "name": "stdout",
     "output_type": "stream",
     "text": [
      "{0, 1, 2, 3, 4, 5, 6, 7, 24, 31}\n"
     ]
    }
   ],
   "source": [
    "print(daily_pints_log | wifes_daily_log)"
   ]
  },
  {
   "cell_type": "code",
   "execution_count": 116,
   "id": "04a6be02-597a-4772-a6d9-cef3980f8a08",
   "metadata": {},
   "outputs": [
    {
     "name": "stdout",
     "output_type": "stream",
     "text": [
      "{1, 2, 3, 5}\n"
     ]
    }
   ],
   "source": [
    "print(daily_pints_log & wifes_daily_log)"
   ]
  },
  {
   "cell_type": "code",
   "execution_count": 120,
   "id": "8c0e4920-8454-426c-a0c5-3e4a9e8a0b60",
   "metadata": {},
   "outputs": [
    {
     "name": "stdout",
     "output_type": "stream",
     "text": [
      "{0, 4, 6, 7, 24, 31}\n"
     ]
    }
   ],
   "source": [
    "print(daily_pints_log ^ wifes_daily_log)"
   ]
  },
  {
   "cell_type": "code",
   "execution_count": 124,
   "id": "b621df17-5837-4804-934d-51cad75fc68b",
   "metadata": {},
   "outputs": [],
   "source": [
    "#Dictionaries\n",
    "#Key/Value Pair\n",
    "dict_cream = {\"Name\": \"Alex Freberg\", \"Weekly Intake\": 5, \"Favorite ice creams\": [\"MCC\", \"Chocolate\"]}\n"
   ]
  },
  {
   "cell_type": "code",
   "execution_count": 126,
   "id": "438ce2f8-1a50-47b2-b620-0f582fe70471",
   "metadata": {},
   "outputs": [
    {
     "data": {
      "text/plain": [
       "dict_values(['Alex Freberg', 5, ['MCC', 'Chocolate']])"
      ]
     },
     "execution_count": 126,
     "metadata": {},
     "output_type": "execute_result"
    }
   ],
   "source": [
    "dict_cream.values()"
   ]
  },
  {
   "cell_type": "code",
   "execution_count": 128,
   "id": "e0e8fc50-14c2-46d5-9dd3-ff6b641f450f",
   "metadata": {},
   "outputs": [
    {
     "data": {
      "text/plain": [
       "'Alex Freberg'"
      ]
     },
     "execution_count": 128,
     "metadata": {},
     "output_type": "execute_result"
    }
   ],
   "source": [
    "dict_cream[\"Name\"]"
   ]
  },
  {
   "cell_type": "code",
   "execution_count": 130,
   "id": "17c00715-5127-4d45-9645-cab515327a03",
   "metadata": {},
   "outputs": [
    {
     "name": "stdout",
     "output_type": "stream",
     "text": [
      "{'Name': 'Christine Freberg', 'Weekly Intake': 5, 'Favorite ice creams': ['MCC', 'Chocolate']}\n"
     ]
    }
   ],
   "source": [
    "dict_cream[\"Name\"] = \"Christine Freberg\"\n",
    "print(dict_cream)"
   ]
  },
  {
   "cell_type": "code",
   "execution_count": null,
   "id": "9d425f00-1550-4fad-9832-c886cc381a43",
   "metadata": {},
   "outputs": [],
   "source": []
  }
 ],
 "metadata": {
  "kernelspec": {
   "display_name": "Python 3 (ipykernel)",
   "language": "python",
   "name": "python3"
  },
  "language_info": {
   "codemirror_mode": {
    "name": "ipython",
    "version": 3
   },
   "file_extension": ".py",
   "mimetype": "text/x-python",
   "name": "python",
   "nbconvert_exporter": "python",
   "pygments_lexer": "ipython3",
   "version": "3.12.4"
  }
 },
 "nbformat": 4,
 "nbformat_minor": 5
}
